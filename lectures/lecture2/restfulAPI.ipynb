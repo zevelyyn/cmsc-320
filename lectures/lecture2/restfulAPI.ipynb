{
 "cells": [
  {
   "cell_type": "code",
   "execution_count": 1,
   "id": "065987b8",
   "metadata": {},
   "outputs": [],
   "source": [
    "import requests"
   ]
  },
  {
   "cell_type": "code",
   "execution_count": 2,
   "id": "41b4efa7",
   "metadata": {},
   "outputs": [],
   "source": [
    "# Replace these with your GitHub username, repository name, and personal access token\n",
    "github_username = \"\"\n",
    "repository_name = \"\"\n",
    "access_token = \"\"\n",
    "\n",
    "base_url = f\"https://api.github.com/repos/{github_username}/{repository_name}\""
   ]
  },
  {
   "cell_type": "code",
   "execution_count": 3,
   "id": "bd473dc3",
   "metadata": {},
   "outputs": [
    {
     "ename": "HTTPError",
     "evalue": "404 Client Error: Not Found for url: https://api.github.com/repos//",
     "output_type": "error",
     "traceback": [
      "\u001b[0;31m---------------------------------------------------------------------------\u001b[0m",
      "\u001b[0;31mHTTPError\u001b[0m                                 Traceback (most recent call last)",
      "Cell \u001b[0;32mIn[3], line 3\u001b[0m\n\u001b[1;32m      1\u001b[0m \u001b[38;5;66;03m# Example 1: Retrieve Repository Information (GET)\u001b[39;00m\n\u001b[1;32m      2\u001b[0m response \u001b[38;5;241m=\u001b[39m requests\u001b[38;5;241m.\u001b[39mget(base_url)\n\u001b[0;32m----> 3\u001b[0m \u001b[43mresponse\u001b[49m\u001b[38;5;241;43m.\u001b[39;49m\u001b[43mraise_for_status\u001b[49m\u001b[43m(\u001b[49m\u001b[43m)\u001b[49m\n\u001b[1;32m      4\u001b[0m repo_info \u001b[38;5;241m=\u001b[39m response\u001b[38;5;241m.\u001b[39mjson()\n\u001b[1;32m      5\u001b[0m \u001b[38;5;28mprint\u001b[39m(\u001b[38;5;124m\"\u001b[39m\u001b[38;5;124mExample 1 - Retrieve Repository Information:\u001b[39m\u001b[38;5;124m\"\u001b[39m)\n",
      "File \u001b[0;32m/usr/local/lib/python3.10/dist-packages/requests/models.py:1021\u001b[0m, in \u001b[0;36mResponse.raise_for_status\u001b[0;34m(self)\u001b[0m\n\u001b[1;32m   1016\u001b[0m     http_error_msg \u001b[38;5;241m=\u001b[39m (\n\u001b[1;32m   1017\u001b[0m         \u001b[38;5;124mf\u001b[39m\u001b[38;5;124m\"\u001b[39m\u001b[38;5;132;01m{\u001b[39;00m\u001b[38;5;28mself\u001b[39m\u001b[38;5;241m.\u001b[39mstatus_code\u001b[38;5;132;01m}\u001b[39;00m\u001b[38;5;124m Server Error: \u001b[39m\u001b[38;5;132;01m{\u001b[39;00mreason\u001b[38;5;132;01m}\u001b[39;00m\u001b[38;5;124m for url: \u001b[39m\u001b[38;5;132;01m{\u001b[39;00m\u001b[38;5;28mself\u001b[39m\u001b[38;5;241m.\u001b[39murl\u001b[38;5;132;01m}\u001b[39;00m\u001b[38;5;124m\"\u001b[39m\n\u001b[1;32m   1018\u001b[0m     )\n\u001b[1;32m   1020\u001b[0m \u001b[38;5;28;01mif\u001b[39;00m http_error_msg:\n\u001b[0;32m-> 1021\u001b[0m     \u001b[38;5;28;01mraise\u001b[39;00m HTTPError(http_error_msg, response\u001b[38;5;241m=\u001b[39m\u001b[38;5;28mself\u001b[39m)\n",
      "\u001b[0;31mHTTPError\u001b[0m: 404 Client Error: Not Found for url: https://api.github.com/repos//"
     ]
    }
   ],
   "source": [
    "# Example 1: Retrieve Repository Information (GET)\n",
    "response = requests.get(base_url)\n",
    "response.raise_for_status()\n",
    "repo_info = response.json()\n",
    "print(\"Example 1 - Retrieve Repository Information:\")\n",
    "print(repo_info)"
   ]
  },
  {
   "cell_type": "code",
   "execution_count": null,
   "id": "6a54b202",
   "metadata": {},
   "outputs": [
    {
     "name": "stdout",
     "output_type": "stream",
     "text": [
      "\n",
      "Example 2 - Updated Repository Description:\n",
      "{'id': 749918403, 'node_id': 'R_kgDOLLLYww', 'name': 'testAPI', 'full_name': 'nayeemmz/testAPI', 'private': False, 'owner': {'login': 'nayeemmz', 'id': 10536112, 'node_id': 'MDQ6VXNlcjEwNTM2MTEy', 'avatar_url': 'https://avatars.githubusercontent.com/u/10536112?v=4', 'gravatar_id': '', 'url': 'https://api.github.com/users/nayeemmz', 'html_url': 'https://github.com/nayeemmz', 'followers_url': 'https://api.github.com/users/nayeemmz/followers', 'following_url': 'https://api.github.com/users/nayeemmz/following{/other_user}', 'gists_url': 'https://api.github.com/users/nayeemmz/gists{/gist_id}', 'starred_url': 'https://api.github.com/users/nayeemmz/starred{/owner}{/repo}', 'subscriptions_url': 'https://api.github.com/users/nayeemmz/subscriptions', 'organizations_url': 'https://api.github.com/users/nayeemmz/orgs', 'repos_url': 'https://api.github.com/users/nayeemmz/repos', 'events_url': 'https://api.github.com/users/nayeemmz/events{/privacy}', 'received_events_url': 'https://api.github.com/users/nayeemmz/received_events', 'type': 'User', 'site_admin': False}, 'html_url': 'https://github.com/nayeemmz/testAPI', 'description': 'A fancy new  updated description for my repository', 'fork': False, 'url': 'https://api.github.com/repos/nayeemmz/testAPI', 'forks_url': 'https://api.github.com/repos/nayeemmz/testAPI/forks', 'keys_url': 'https://api.github.com/repos/nayeemmz/testAPI/keys{/key_id}', 'collaborators_url': 'https://api.github.com/repos/nayeemmz/testAPI/collaborators{/collaborator}', 'teams_url': 'https://api.github.com/repos/nayeemmz/testAPI/teams', 'hooks_url': 'https://api.github.com/repos/nayeemmz/testAPI/hooks', 'issue_events_url': 'https://api.github.com/repos/nayeemmz/testAPI/issues/events{/number}', 'events_url': 'https://api.github.com/repos/nayeemmz/testAPI/events', 'assignees_url': 'https://api.github.com/repos/nayeemmz/testAPI/assignees{/user}', 'branches_url': 'https://api.github.com/repos/nayeemmz/testAPI/branches{/branch}', 'tags_url': 'https://api.github.com/repos/nayeemmz/testAPI/tags', 'blobs_url': 'https://api.github.com/repos/nayeemmz/testAPI/git/blobs{/sha}', 'git_tags_url': 'https://api.github.com/repos/nayeemmz/testAPI/git/tags{/sha}', 'git_refs_url': 'https://api.github.com/repos/nayeemmz/testAPI/git/refs{/sha}', 'trees_url': 'https://api.github.com/repos/nayeemmz/testAPI/git/trees{/sha}', 'statuses_url': 'https://api.github.com/repos/nayeemmz/testAPI/statuses/{sha}', 'languages_url': 'https://api.github.com/repos/nayeemmz/testAPI/languages', 'stargazers_url': 'https://api.github.com/repos/nayeemmz/testAPI/stargazers', 'contributors_url': 'https://api.github.com/repos/nayeemmz/testAPI/contributors', 'subscribers_url': 'https://api.github.com/repos/nayeemmz/testAPI/subscribers', 'subscription_url': 'https://api.github.com/repos/nayeemmz/testAPI/subscription', 'commits_url': 'https://api.github.com/repos/nayeemmz/testAPI/commits{/sha}', 'git_commits_url': 'https://api.github.com/repos/nayeemmz/testAPI/git/commits{/sha}', 'comments_url': 'https://api.github.com/repos/nayeemmz/testAPI/comments{/number}', 'issue_comment_url': 'https://api.github.com/repos/nayeemmz/testAPI/issues/comments{/number}', 'contents_url': 'https://api.github.com/repos/nayeemmz/testAPI/contents/{+path}', 'compare_url': 'https://api.github.com/repos/nayeemmz/testAPI/compare/{base}...{head}', 'merges_url': 'https://api.github.com/repos/nayeemmz/testAPI/merges', 'archive_url': 'https://api.github.com/repos/nayeemmz/testAPI/{archive_format}{/ref}', 'downloads_url': 'https://api.github.com/repos/nayeemmz/testAPI/downloads', 'issues_url': 'https://api.github.com/repos/nayeemmz/testAPI/issues{/number}', 'pulls_url': 'https://api.github.com/repos/nayeemmz/testAPI/pulls{/number}', 'milestones_url': 'https://api.github.com/repos/nayeemmz/testAPI/milestones{/number}', 'notifications_url': 'https://api.github.com/repos/nayeemmz/testAPI/notifications{?since,all,participating}', 'labels_url': 'https://api.github.com/repos/nayeemmz/testAPI/labels{/name}', 'releases_url': 'https://api.github.com/repos/nayeemmz/testAPI/releases{/id}', 'deployments_url': 'https://api.github.com/repos/nayeemmz/testAPI/deployments', 'created_at': '2024-01-29T16:49:24Z', 'updated_at': '2024-01-30T19:27:00Z', 'pushed_at': '2024-01-29T16:49:24Z', 'git_url': 'git://github.com/nayeemmz/testAPI.git', 'ssh_url': 'git@github.com:nayeemmz/testAPI.git', 'clone_url': 'https://github.com/nayeemmz/testAPI.git', 'svn_url': 'https://github.com/nayeemmz/testAPI', 'homepage': None, 'size': 0, 'stargazers_count': 0, 'watchers_count': 0, 'language': None, 'has_issues': True, 'has_projects': True, 'has_downloads': True, 'has_wiki': True, 'has_pages': False, 'has_discussions': False, 'forks_count': 0, 'mirror_url': None, 'archived': False, 'disabled': False, 'open_issues_count': 3, 'license': None, 'allow_forking': True, 'is_template': False, 'web_commit_signoff_required': False, 'topics': [], 'visibility': 'public', 'forks': 0, 'open_issues': 3, 'watchers': 0, 'default_branch': 'main', 'permissions': {'admin': True, 'maintain': True, 'push': True, 'triage': True, 'pull': True}, 'allow_squash_merge': True, 'allow_merge_commit': True, 'allow_rebase_merge': True, 'allow_auto_merge': False, 'delete_branch_on_merge': False, 'allow_update_branch': False, 'use_squash_pr_title_as_default': False, 'squash_merge_commit_message': 'COMMIT_MESSAGES', 'squash_merge_commit_title': 'COMMIT_OR_PR_TITLE', 'merge_commit_message': 'PR_TITLE', 'merge_commit_title': 'MERGE_MESSAGE', 'security_and_analysis': {'secret_scanning': {'status': 'disabled'}, 'secret_scanning_push_protection': {'status': 'disabled'}, 'dependabot_security_updates': {'status': 'disabled'}, 'secret_scanning_validity_checks': {'status': 'disabled'}}, 'network_count': 0, 'subscribers_count': 1}\n"
     ]
    }
   ],
   "source": [
    "# Example 2: Update Repository Description (PUT)\n",
    "new_description = \"A fancy new  updated description for my repository\"\n",
    "headers = {\n",
    "    \"Authorization\": f\"Bearer {access_token}\",\n",
    "    \"Accept\": \"application/vnd.github.v3+json\"\n",
    "}\n",
    "update_data = {\"name\": repository_name, \"description\": new_description}\n",
    "response = requests.patch(base_url, headers=headers, json=update_data)\n",
    "response.raise_for_status()\n",
    "updated_repo_info = response.json()\n",
    "print(\"\\nExample 2 - Updated Repository Description:\")\n",
    "print(updated_repo_info)"
   ]
  },
  {
   "cell_type": "code",
   "execution_count": null,
   "id": "3435ea1b",
   "metadata": {},
   "outputs": [
    {
     "name": "stdout",
     "output_type": "stream",
     "text": [
      "\n",
      "Example 3 - Create a New Issue:\n",
      "{'url': 'https://api.github.com/repos/nayeemmz/testAPI/issues/4', 'repository_url': 'https://api.github.com/repos/nayeemmz/testAPI', 'labels_url': 'https://api.github.com/repos/nayeemmz/testAPI/issues/4/labels{/name}', 'comments_url': 'https://api.github.com/repos/nayeemmz/testAPI/issues/4/comments', 'events_url': 'https://api.github.com/repos/nayeemmz/testAPI/issues/4/events', 'html_url': 'https://github.com/nayeemmz/testAPI/issues/4', 'id': 2108599498, 'node_id': 'I_kwDOLLLYw859rqzK', 'number': 4, 'title': 'Bug fix 34', 'user': {'login': 'nayeemmz', 'id': 10536112, 'node_id': 'MDQ6VXNlcjEwNTM2MTEy', 'avatar_url': 'https://avatars.githubusercontent.com/u/10536112?v=4', 'gravatar_id': '', 'url': 'https://api.github.com/users/nayeemmz', 'html_url': 'https://github.com/nayeemmz', 'followers_url': 'https://api.github.com/users/nayeemmz/followers', 'following_url': 'https://api.github.com/users/nayeemmz/following{/other_user}', 'gists_url': 'https://api.github.com/users/nayeemmz/gists{/gist_id}', 'starred_url': 'https://api.github.com/users/nayeemmz/starred{/owner}{/repo}', 'subscriptions_url': 'https://api.github.com/users/nayeemmz/subscriptions', 'organizations_url': 'https://api.github.com/users/nayeemmz/orgs', 'repos_url': 'https://api.github.com/users/nayeemmz/repos', 'events_url': 'https://api.github.com/users/nayeemmz/events{/privacy}', 'received_events_url': 'https://api.github.com/users/nayeemmz/received_events', 'type': 'User', 'site_admin': False}, 'labels': [], 'state': 'open', 'locked': False, 'assignee': None, 'assignees': [], 'milestone': None, 'comments': 0, 'created_at': '2024-01-30T19:28:02Z', 'updated_at': '2024-01-30T19:28:02Z', 'closed_at': None, 'author_association': 'OWNER', 'active_lock_reason': None, 'body': 'Fixing a very critical bug in the code', 'closed_by': None, 'reactions': {'url': 'https://api.github.com/repos/nayeemmz/testAPI/issues/4/reactions', 'total_count': 0, '+1': 0, '-1': 0, 'laugh': 0, 'hooray': 0, 'confused': 0, 'heart': 0, 'rocket': 0, 'eyes': 0}, 'timeline_url': 'https://api.github.com/repos/nayeemmz/testAPI/issues/4/timeline', 'performed_via_github_app': None, 'state_reason': None}\n"
     ]
    }
   ],
   "source": [
    "# Example 3: Create a New Issue (POST)\n",
    "new_issue_data = {\n",
    "    \"title\": \"Bug fix 34\",\n",
    "    \"body\": \"Fixing a very critical bug in the code\",\n",
    "}\n",
    "response = requests.post(f\"{base_url}/issues\", headers=headers, json=new_issue_data)\n",
    "response.raise_for_status()\n",
    "new_issue = response.json()\n",
    "print(\"\\nExample 3 - Create a New Issue:\")\n",
    "print(new_issue)"
   ]
  },
  {
   "cell_type": "code",
   "execution_count": null,
   "id": "54ff937a",
   "metadata": {},
   "outputs": [
    {
     "name": "stdout",
     "output_type": "stream",
     "text": [
      "3\n"
     ]
    }
   ],
   "source": [
    "print(new_issue[\"number\"])"
   ]
  },
  {
   "cell_type": "code",
   "execution_count": null,
   "id": "057f3738",
   "metadata": {},
   "outputs": [
    {
     "data": {
      "text/plain": [
       "<Response [404]>"
      ]
     },
     "execution_count": 31,
     "metadata": {},
     "output_type": "execute_result"
    }
   ],
   "source": [
    "requests.delete(f\"{base_url}/issues/{issue_number_to_delete}\", headers=headers)"
   ]
  },
  {
   "cell_type": "code",
   "execution_count": null,
   "id": "d3dc9f58",
   "metadata": {},
   "outputs": [
    {
     "name": "stdout",
     "output_type": "stream",
     "text": [
      "\n",
      "Example 4 - Delete Issue #3: Status 404\n"
     ]
    }
   ],
   "source": [
    "# Example 4: Delete an Issue (DELETE)\n",
    "issue_number_to_delete = new_issue[\"number\"]  # Use the number from the created issue\n",
    "response = requests.delete(f\"{base_url}/issues/{issue_number_to_delete}\", headers=headers)\n",
    "if response.status_code == 204:\n",
    "    print(f\"\\nExample 4 - Delete Issue #{issue_number_to_delete}: Success\")\n",
    "else:\n",
    "    print(f\"\\nExample 4 - Delete Issue #{issue_number_to_delete}: Status {response.status_code}\")"
   ]
  }
 ],
 "metadata": {
  "kernelspec": {
   "display_name": "Python 3 (ipykernel)",
   "language": "python",
   "name": "python3"
  },
  "language_info": {
   "codemirror_mode": {
    "name": "ipython",
    "version": 3
   },
   "file_extension": ".py",
   "mimetype": "text/x-python",
   "name": "python",
   "nbconvert_exporter": "python",
   "pygments_lexer": "ipython3",
   "version": "3.10.12"
  }
 },
 "nbformat": 4,
 "nbformat_minor": 5
}
