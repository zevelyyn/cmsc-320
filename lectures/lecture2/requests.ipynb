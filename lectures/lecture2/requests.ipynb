{
 "cells": [
  {
   "cell_type": "code",
   "execution_count": 1,
   "id": "e6699969",
   "metadata": {},
   "outputs": [],
   "source": [
    "import requests"
   ]
  },
  {
   "cell_type": "code",
   "execution_count": 6,
   "id": "413e47f6",
   "metadata": {},
   "outputs": [
    {
     "name": "stdout",
     "output_type": "stream",
     "text": [
      "Repository Name: requests\n",
      "Description: A simple, yet elegant, HTTP library.\n",
      "URL: https://github.com/psf/requests\n",
      "Stars: 50926\n"
     ]
    }
   ],
   "source": [
    "def get_github_repo_info(owner, repo):\n",
    "    # Define the GitHub API endpoint for repositories\n",
    "    api_url = f\"https://api.github.com/repos/{owner}/{repo}\"\n",
    "\n",
    "    # Make a GET request to the GitHub API\n",
    "    response = requests.get(api_url)\n",
    "\n",
    "    # Check if the request was successful (status code 200)\n",
    "    if response.status_code == 200:\n",
    "        # Parse the JSON response\n",
    "        repo_info = response.json()\n",
    "\n",
    "        # Extract and print relevant information\n",
    "        repo_name = repo_info.get(\"name\", \"Repository name not found\")\n",
    "        repo_description = repo_info.get(\"description\", \"Description not found\")\n",
    "        repo_url = repo_info.get(\"html_url\", \"URL not found\")\n",
    "        repo_stars = repo_info.get(\"stargazers_count\", \"Stars count not found\")\n",
    "\n",
    "        print(f\"Repository Name: {repo_name}\")\n",
    "        print(f\"Description: {repo_description}\")\n",
    "        print(f\"URL: {repo_url}\")\n",
    "        print(f\"Stars: {repo_stars}\")\n",
    "    else:\n",
    "        # If the request was not successful, print an error message\n",
    "        print(\"Error:\", response.status_code)\n",
    "        print(\"Response:\", response.text)\n",
    "    return response\n",
    "\n",
    "# Example: Get information about the \"requests\" library on GitHub\n",
    "r = get_github_repo_info(\"psf\", \"requests\")\n"
   ]
  },
  {
   "cell_type": "code",
   "execution_count": 7,
   "id": "4f0129c6",
   "metadata": {},
   "outputs": [
    {
     "data": {
      "text/plain": [
       "200"
      ]
     },
     "execution_count": 7,
     "metadata": {},
     "output_type": "execute_result"
    }
   ],
   "source": [
    "r.status_code"
   ]
  },
  {
   "cell_type": "code",
   "execution_count": 8,
   "id": "5cea8fce",
   "metadata": {},
   "outputs": [
    {
     "data": {
      "text/plain": [
       "{'Server': 'GitHub.com', 'Date': 'Mon, 29 Jan 2024 16:29:00 GMT', 'Content-Type': 'application/json; charset=utf-8', 'Cache-Control': 'public, max-age=60, s-maxage=60', 'Vary': 'Accept, Accept-Encoding, Accept, X-Requested-With', 'ETag': 'W/\"dcd8541a867cbd6613de76fc7be1520fc9202e21d590dc997c203c618fe557c5\"', 'Last-Modified': 'Mon, 29 Jan 2024 14:15:48 GMT', 'X-GitHub-Media-Type': 'github.v3; format=json', 'x-github-api-version-selected': '2022-11-28', 'Access-Control-Expose-Headers': 'ETag, Link, Location, Retry-After, X-GitHub-OTP, X-RateLimit-Limit, X-RateLimit-Remaining, X-RateLimit-Used, X-RateLimit-Resource, X-RateLimit-Reset, X-OAuth-Scopes, X-Accepted-OAuth-Scopes, X-Poll-Interval, X-GitHub-Media-Type, X-GitHub-SSO, X-GitHub-Request-Id, Deprecation, Sunset', 'Access-Control-Allow-Origin': '*', 'Strict-Transport-Security': 'max-age=31536000; includeSubdomains; preload', 'X-Frame-Options': 'deny', 'X-Content-Type-Options': 'nosniff', 'X-XSS-Protection': '0', 'Referrer-Policy': 'origin-when-cross-origin, strict-origin-when-cross-origin', 'Content-Security-Policy': \"default-src 'none'\", 'Content-Encoding': 'gzip', 'X-RateLimit-Limit': '60', 'X-RateLimit-Remaining': '57', 'X-RateLimit-Reset': '1706549213', 'X-RateLimit-Resource': 'core', 'X-RateLimit-Used': '3', 'Accept-Ranges': 'bytes', 'Content-Length': '1463', 'X-GitHub-Request-Id': 'D511:3853:4C4D6:9B495:65B7D24C'}"
      ]
     },
     "execution_count": 8,
     "metadata": {},
     "output_type": "execute_result"
    }
   ],
   "source": [
    "r.headers"
   ]
  },
  {
   "cell_type": "code",
   "execution_count": 9,
   "id": "f45e2be6",
   "metadata": {},
   "outputs": [
    {
     "data": {
      "text/plain": [
       "'application/json; charset=utf-8'"
      ]
     },
     "execution_count": 9,
     "metadata": {},
     "output_type": "execute_result"
    }
   ],
   "source": [
    "r.headers['Content-Type']"
   ]
  },
  {
   "cell_type": "code",
   "execution_count": 10,
   "id": "83b0a7fe",
   "metadata": {},
   "outputs": [
    {
     "data": {
      "text/plain": [
       "{'id': 1362490,\n",
       " 'node_id': 'MDEwOlJlcG9zaXRvcnkxMzYyNDkw',\n",
       " 'name': 'requests',\n",
       " 'full_name': 'psf/requests',\n",
       " 'private': False,\n",
       " 'owner': {'login': 'psf',\n",
       "  'id': 50630501,\n",
       "  'node_id': 'MDEyOk9yZ2FuaXphdGlvbjUwNjMwNTAx',\n",
       "  'avatar_url': 'https://avatars.githubusercontent.com/u/50630501?v=4',\n",
       "  'gravatar_id': '',\n",
       "  'url': 'https://api.github.com/users/psf',\n",
       "  'html_url': 'https://github.com/psf',\n",
       "  'followers_url': 'https://api.github.com/users/psf/followers',\n",
       "  'following_url': 'https://api.github.com/users/psf/following{/other_user}',\n",
       "  'gists_url': 'https://api.github.com/users/psf/gists{/gist_id}',\n",
       "  'starred_url': 'https://api.github.com/users/psf/starred{/owner}{/repo}',\n",
       "  'subscriptions_url': 'https://api.github.com/users/psf/subscriptions',\n",
       "  'organizations_url': 'https://api.github.com/users/psf/orgs',\n",
       "  'repos_url': 'https://api.github.com/users/psf/repos',\n",
       "  'events_url': 'https://api.github.com/users/psf/events{/privacy}',\n",
       "  'received_events_url': 'https://api.github.com/users/psf/received_events',\n",
       "  'type': 'Organization',\n",
       "  'site_admin': False},\n",
       " 'html_url': 'https://github.com/psf/requests',\n",
       " 'description': 'A simple, yet elegant, HTTP library.',\n",
       " 'fork': False,\n",
       " 'url': 'https://api.github.com/repos/psf/requests',\n",
       " 'forks_url': 'https://api.github.com/repos/psf/requests/forks',\n",
       " 'keys_url': 'https://api.github.com/repos/psf/requests/keys{/key_id}',\n",
       " 'collaborators_url': 'https://api.github.com/repos/psf/requests/collaborators{/collaborator}',\n",
       " 'teams_url': 'https://api.github.com/repos/psf/requests/teams',\n",
       " 'hooks_url': 'https://api.github.com/repos/psf/requests/hooks',\n",
       " 'issue_events_url': 'https://api.github.com/repos/psf/requests/issues/events{/number}',\n",
       " 'events_url': 'https://api.github.com/repos/psf/requests/events',\n",
       " 'assignees_url': 'https://api.github.com/repos/psf/requests/assignees{/user}',\n",
       " 'branches_url': 'https://api.github.com/repos/psf/requests/branches{/branch}',\n",
       " 'tags_url': 'https://api.github.com/repos/psf/requests/tags',\n",
       " 'blobs_url': 'https://api.github.com/repos/psf/requests/git/blobs{/sha}',\n",
       " 'git_tags_url': 'https://api.github.com/repos/psf/requests/git/tags{/sha}',\n",
       " 'git_refs_url': 'https://api.github.com/repos/psf/requests/git/refs{/sha}',\n",
       " 'trees_url': 'https://api.github.com/repos/psf/requests/git/trees{/sha}',\n",
       " 'statuses_url': 'https://api.github.com/repos/psf/requests/statuses/{sha}',\n",
       " 'languages_url': 'https://api.github.com/repos/psf/requests/languages',\n",
       " 'stargazers_url': 'https://api.github.com/repos/psf/requests/stargazers',\n",
       " 'contributors_url': 'https://api.github.com/repos/psf/requests/contributors',\n",
       " 'subscribers_url': 'https://api.github.com/repos/psf/requests/subscribers',\n",
       " 'subscription_url': 'https://api.github.com/repos/psf/requests/subscription',\n",
       " 'commits_url': 'https://api.github.com/repos/psf/requests/commits{/sha}',\n",
       " 'git_commits_url': 'https://api.github.com/repos/psf/requests/git/commits{/sha}',\n",
       " 'comments_url': 'https://api.github.com/repos/psf/requests/comments{/number}',\n",
       " 'issue_comment_url': 'https://api.github.com/repos/psf/requests/issues/comments{/number}',\n",
       " 'contents_url': 'https://api.github.com/repos/psf/requests/contents/{+path}',\n",
       " 'compare_url': 'https://api.github.com/repos/psf/requests/compare/{base}...{head}',\n",
       " 'merges_url': 'https://api.github.com/repos/psf/requests/merges',\n",
       " 'archive_url': 'https://api.github.com/repos/psf/requests/{archive_format}{/ref}',\n",
       " 'downloads_url': 'https://api.github.com/repos/psf/requests/downloads',\n",
       " 'issues_url': 'https://api.github.com/repos/psf/requests/issues{/number}',\n",
       " 'pulls_url': 'https://api.github.com/repos/psf/requests/pulls{/number}',\n",
       " 'milestones_url': 'https://api.github.com/repos/psf/requests/milestones{/number}',\n",
       " 'notifications_url': 'https://api.github.com/repos/psf/requests/notifications{?since,all,participating}',\n",
       " 'labels_url': 'https://api.github.com/repos/psf/requests/labels{/name}',\n",
       " 'releases_url': 'https://api.github.com/repos/psf/requests/releases{/id}',\n",
       " 'deployments_url': 'https://api.github.com/repos/psf/requests/deployments',\n",
       " 'created_at': '2011-02-13T18:38:17Z',\n",
       " 'updated_at': '2024-01-29T14:15:48Z',\n",
       " 'pushed_at': '2024-01-26T09:02:10Z',\n",
       " 'git_url': 'git://github.com/psf/requests.git',\n",
       " 'ssh_url': 'git@github.com:psf/requests.git',\n",
       " 'clone_url': 'https://github.com/psf/requests.git',\n",
       " 'svn_url': 'https://github.com/psf/requests',\n",
       " 'homepage': 'https://requests.readthedocs.io/en/latest/',\n",
       " 'size': 12912,\n",
       " 'stargazers_count': 50926,\n",
       " 'watchers_count': 50926,\n",
       " 'language': 'Python',\n",
       " 'has_issues': True,\n",
       " 'has_projects': False,\n",
       " 'has_downloads': True,\n",
       " 'has_wiki': True,\n",
       " 'has_pages': False,\n",
       " 'has_discussions': False,\n",
       " 'forks_count': 9310,\n",
       " 'mirror_url': None,\n",
       " 'archived': False,\n",
       " 'disabled': False,\n",
       " 'open_issues_count': 270,\n",
       " 'license': {'key': 'apache-2.0',\n",
       "  'name': 'Apache License 2.0',\n",
       "  'spdx_id': 'Apache-2.0',\n",
       "  'url': 'https://api.github.com/licenses/apache-2.0',\n",
       "  'node_id': 'MDc6TGljZW5zZTI='},\n",
       " 'allow_forking': True,\n",
       " 'is_template': False,\n",
       " 'web_commit_signoff_required': False,\n",
       " 'topics': ['client',\n",
       "  'cookies',\n",
       "  'forhumans',\n",
       "  'http',\n",
       "  'humans',\n",
       "  'python',\n",
       "  'python-requests',\n",
       "  'requests'],\n",
       " 'visibility': 'public',\n",
       " 'forks': 9310,\n",
       " 'open_issues': 270,\n",
       " 'watchers': 50926,\n",
       " 'default_branch': 'main',\n",
       " 'temp_clone_token': None,\n",
       " 'custom_properties': {},\n",
       " 'organization': {'login': 'psf',\n",
       "  'id': 50630501,\n",
       "  'node_id': 'MDEyOk9yZ2FuaXphdGlvbjUwNjMwNTAx',\n",
       "  'avatar_url': 'https://avatars.githubusercontent.com/u/50630501?v=4',\n",
       "  'gravatar_id': '',\n",
       "  'url': 'https://api.github.com/users/psf',\n",
       "  'html_url': 'https://github.com/psf',\n",
       "  'followers_url': 'https://api.github.com/users/psf/followers',\n",
       "  'following_url': 'https://api.github.com/users/psf/following{/other_user}',\n",
       "  'gists_url': 'https://api.github.com/users/psf/gists{/gist_id}',\n",
       "  'starred_url': 'https://api.github.com/users/psf/starred{/owner}{/repo}',\n",
       "  'subscriptions_url': 'https://api.github.com/users/psf/subscriptions',\n",
       "  'organizations_url': 'https://api.github.com/users/psf/orgs',\n",
       "  'repos_url': 'https://api.github.com/users/psf/repos',\n",
       "  'events_url': 'https://api.github.com/users/psf/events{/privacy}',\n",
       "  'received_events_url': 'https://api.github.com/users/psf/received_events',\n",
       "  'type': 'Organization',\n",
       "  'site_admin': False},\n",
       " 'network_count': 9310,\n",
       " 'subscribers_count': 1338}"
      ]
     },
     "execution_count": 10,
     "metadata": {},
     "output_type": "execute_result"
    }
   ],
   "source": [
    "r.json()"
   ]
  },
  {
   "cell_type": "code",
   "execution_count": 2,
   "id": "ed454f2c",
   "metadata": {},
   "outputs": [
    {
     "name": "stdout",
     "output_type": "stream",
     "text": [
      "Title: Python (programming language)\n",
      "Content:\n",
      "<p class=\"mw-empty-elt\">\n",
      "</p>\n",
      "<p><b>Python</b> is a high-level, general-purpose programming language. Its design philosophy emphasizes code readability with the use of significant indentation.</p><p>Python is dynamically typed and garbage-collected. It supports multiple programming paradigms, including structured (particularly procedural), object-oriented and functional programming. It is often described as a \"batteries included\" language due to its comprehensive standard library.</p><p>Guido van Rossum began working on Python in the late 1980s as a successor to the ABC programming language and first released it in 1991 as Python 0.9.0. Python 2.0 was released in 2000. Python 3.0, released in 2008, was a major revision not completely backward-compatible with earlier versions. Python 2.7.18, released in 2020, was the last release of Python 2.</p><p>Python consistently ranks as one of the most popular programming languages, and has gained widespread use in the machine learning community.</p>\n"
     ]
    }
   ],
   "source": [
    "def get_wikipedia_page(title):\n",
    "    # Define the Wikipedia API endpoint\n",
    "    api_url = \"https://en.wikipedia.org/w/api.php\"\n",
    "\n",
    "    # Specify parameters for the API request\n",
    "    params = {\n",
    "        \"action\": \"query\",\n",
    "        \"format\": \"json\",\n",
    "        \"titles\": title,\n",
    "        \"prop\": \"extracts\",\n",
    "        \"exintro\": True  # Include only the introduction section of the article\n",
    "    }\n",
    "\n",
    "    # Make a GET request to the Wikipedia API\n",
    "    response = requests.get(api_url, params=params)\n",
    "\n",
    "    # Check if the request was successful (status code 200)\n",
    "    if response.status_code == 200:\n",
    "        # Parse the JSON response\n",
    "        data = response.json()\n",
    "\n",
    "        # Extract the page content from the response\n",
    "        pages = data.get(\"query\", {}).get(\"pages\", {})\n",
    "        if pages:\n",
    "            # Get the first (and only) page from the dictionary\n",
    "            page = next(iter(pages.values()))\n",
    "\n",
    "            # Extract and print the page title and content\n",
    "            page_title = page.get(\"title\", \"Title not found\")\n",
    "            page_content = page.get(\"extract\", \"Content not found\")\n",
    "\n",
    "            print(f\"Title: {page_title}\")\n",
    "            print(f\"Content:\\n{page_content}\")\n",
    "        else:\n",
    "            print(\"Page not found.\")\n",
    "    else:\n",
    "        # If the request was not successful, print an error message\n",
    "        print(\"Error:\", response.status_code)\n",
    "        print(\"Response:\", response.text)\n",
    "\n",
    "# Example: Get the Wikipedia page for Python programming language\n",
    "get_wikipedia_page(\"Python_(programming_language)\")\n",
    "# get_wikipedia_page(\"University_of_Maryland,_College_Park\")\n"
   ]
  },
  {
   "cell_type": "code",
   "execution_count": 3,
   "id": "710764da",
   "metadata": {},
   "outputs": [
    {
     "name": "stdout",
     "output_type": "stream",
     "text": [
      "Requirement already satisfied: requests in /Users/nayeem/anaconda3/lib/python3.10/site-packages (2.31.0)\n",
      "Requirement already satisfied: urllib3<3,>=1.21.1 in /Users/nayeem/anaconda3/lib/python3.10/site-packages (from requests) (1.26.18)\n",
      "Requirement already satisfied: certifi>=2017.4.17 in /Users/nayeem/anaconda3/lib/python3.10/site-packages (from requests) (2023.11.17)\n",
      "Requirement already satisfied: charset-normalizer<4,>=2 in /Users/nayeem/anaconda3/lib/python3.10/site-packages (from requests) (3.3.2)\n",
      "Requirement already satisfied: idna<4,>=2.5 in /Users/nayeem/anaconda3/lib/python3.10/site-packages (from requests) (3.4)\n",
      "Note: you may need to restart the kernel to use updated packages.\n"
     ]
    }
   ],
   "source": [
    "#!pip install requests"
   ]
  },
  {
   "cell_type": "code",
   "execution_count": null,
   "id": "6107f1cc",
   "metadata": {},
   "outputs": [],
   "source": []
  }
 ],
 "metadata": {
  "kernelspec": {
   "display_name": "Python 3 (ipykernel)",
   "language": "python",
   "name": "python3"
  },
  "language_info": {
   "codemirror_mode": {
    "name": "ipython",
    "version": 3
   },
   "file_extension": ".py",
   "mimetype": "text/x-python",
   "name": "python",
   "nbconvert_exporter": "python",
   "pygments_lexer": "ipython3",
   "version": "3.10.12"
  }
 },
 "nbformat": 4,
 "nbformat_minor": 5
}
